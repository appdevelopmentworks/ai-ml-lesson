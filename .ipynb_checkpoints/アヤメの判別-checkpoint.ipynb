{
 "cells": [
  {
   "cell_type": "code",
   "execution_count": 53,
   "id": "4b44e2a0-4202-4186-9db9-22f89b8d7b75",
   "metadata": {},
   "outputs": [
    {
     "name": "stdout",
     "output_type": "stream",
     "text": [
      "Collecting japanize-matplotlib\n",
      "  Downloading japanize-matplotlib-1.1.3.tar.gz (4.1 MB)\n",
      "     ---------------------------------------- 0.0/4.1 MB ? eta -:--:--\n",
      "     ---------------------------------------- 0.0/4.1 MB ? eta -:--:--\n",
      "     ---------------------------------------- 0.0/4.1 MB 653.6 kB/s eta 0:00:07\n",
      "     --------- ------------------------------ 1.0/4.1 MB 9.1 MB/s eta 0:00:01\n",
      "     ---------------------------------------  4.1/4.1 MB 29.1 MB/s eta 0:00:01\n",
      "     ---------------------------------------- 4.1/4.1 MB 23.9 MB/s eta 0:00:00\n",
      "  Preparing metadata (setup.py): started\n",
      "  Preparing metadata (setup.py): finished with status 'done'\n",
      "Requirement already satisfied: matplotlib in c:\\users\\hartm\\anaconda3\\lib\\site-packages (from japanize-matplotlib) (3.8.0)\n",
      "Requirement already satisfied: contourpy>=1.0.1 in c:\\users\\hartm\\anaconda3\\lib\\site-packages (from matplotlib->japanize-matplotlib) (1.2.0)\n",
      "Requirement already satisfied: cycler>=0.10 in c:\\users\\hartm\\anaconda3\\lib\\site-packages (from matplotlib->japanize-matplotlib) (0.11.0)\n",
      "Requirement already satisfied: fonttools>=4.22.0 in c:\\users\\hartm\\anaconda3\\lib\\site-packages (from matplotlib->japanize-matplotlib) (4.25.0)\n",
      "Requirement already satisfied: kiwisolver>=1.0.1 in c:\\users\\hartm\\anaconda3\\lib\\site-packages (from matplotlib->japanize-matplotlib) (1.4.4)\n",
      "Requirement already satisfied: numpy<2,>=1.21 in c:\\users\\hartm\\anaconda3\\lib\\site-packages (from matplotlib->japanize-matplotlib) (1.26.4)\n",
      "Requirement already satisfied: packaging>=20.0 in c:\\users\\hartm\\appdata\\roaming\\python\\python311\\site-packages (from matplotlib->japanize-matplotlib) (23.0)\n",
      "Requirement already satisfied: pillow>=6.2.0 in c:\\users\\hartm\\anaconda3\\lib\\site-packages (from matplotlib->japanize-matplotlib) (10.2.0)\n",
      "Requirement already satisfied: pyparsing>=2.3.1 in c:\\users\\hartm\\anaconda3\\lib\\site-packages (from matplotlib->japanize-matplotlib) (3.0.9)\n",
      "Requirement already satisfied: python-dateutil>=2.7 in c:\\users\\hartm\\appdata\\roaming\\python\\python311\\site-packages (from matplotlib->japanize-matplotlib) (2.8.2)\n",
      "Requirement already satisfied: six>=1.5 in c:\\users\\hartm\\appdata\\roaming\\python\\python311\\site-packages (from python-dateutil>=2.7->matplotlib->japanize-matplotlib) (1.16.0)\n",
      "Building wheels for collected packages: japanize-matplotlib\n",
      "  Building wheel for japanize-matplotlib (setup.py): started\n",
      "  Building wheel for japanize-matplotlib (setup.py): finished with status 'done'\n",
      "  Created wheel for japanize-matplotlib: filename=japanize_matplotlib-1.1.3-py3-none-any.whl size=4120275 sha256=4fafab9eb4c461d6ba48b4033badba2ee4d1d6ba0aad6109447be9b27dbe9fb4\n",
      "  Stored in directory: c:\\users\\hartm\\appdata\\local\\pip\\cache\\wheels\\da\\a1\\71\\b8faeb93276fed10edffcca20746f1ef6f8d9e071eee8425fc\n",
      "Successfully built japanize-matplotlib\n",
      "Installing collected packages: japanize-matplotlib\n",
      "Successfully installed japanize-matplotlib-1.1.3\n"
     ]
    }
   ],
   "source": [
    "#グラフ日本語表示用のライブラリをインストール\n",
    "!pip install japanize-matplotlib"
   ]
  },
  {
   "cell_type": "code",
   "execution_count": 1,
   "id": "f3c3e00b-145c-478a-a4d0-4c9d0dfa336f",
   "metadata": {},
   "outputs": [],
   "source": [
    "import pandas as pd"
   ]
  },
  {
   "cell_type": "code",
   "execution_count": 2,
   "id": "4bbf9848-98a0-45ef-bca9-08a26c75f03a",
   "metadata": {},
   "outputs": [
    {
     "data": {
      "text/html": [
       "<div>\n",
       "<style scoped>\n",
       "    .dataframe tbody tr th:only-of-type {\n",
       "        vertical-align: middle;\n",
       "    }\n",
       "\n",
       "    .dataframe tbody tr th {\n",
       "        vertical-align: top;\n",
       "    }\n",
       "\n",
       "    .dataframe thead th {\n",
       "        text-align: right;\n",
       "    }\n",
       "</style>\n",
       "<table border=\"1\" class=\"dataframe\">\n",
       "  <thead>\n",
       "    <tr style=\"text-align: right;\">\n",
       "      <th></th>\n",
       "      <th>がく片長さ</th>\n",
       "      <th>がく片幅</th>\n",
       "      <th>花弁長さ</th>\n",
       "      <th>花弁幅</th>\n",
       "      <th>種類</th>\n",
       "    </tr>\n",
       "  </thead>\n",
       "  <tbody>\n",
       "    <tr>\n",
       "      <th>0</th>\n",
       "      <td>0.22</td>\n",
       "      <td>0.63</td>\n",
       "      <td>0.08</td>\n",
       "      <td>0.04</td>\n",
       "      <td>Iris-setosa</td>\n",
       "    </tr>\n",
       "    <tr>\n",
       "      <th>1</th>\n",
       "      <td>0.17</td>\n",
       "      <td>0.42</td>\n",
       "      <td>0.35</td>\n",
       "      <td>0.04</td>\n",
       "      <td>Iris-setosa</td>\n",
       "    </tr>\n",
       "    <tr>\n",
       "      <th>2</th>\n",
       "      <td>0.11</td>\n",
       "      <td>0.50</td>\n",
       "      <td>0.13</td>\n",
       "      <td>0.04</td>\n",
       "      <td>Iris-setosa</td>\n",
       "    </tr>\n",
       "    <tr>\n",
       "      <th>3</th>\n",
       "      <td>0.08</td>\n",
       "      <td>0.46</td>\n",
       "      <td>0.26</td>\n",
       "      <td>0.04</td>\n",
       "      <td>Iris-setosa</td>\n",
       "    </tr>\n",
       "    <tr>\n",
       "      <th>4</th>\n",
       "      <td>0.19</td>\n",
       "      <td>0.67</td>\n",
       "      <td>0.44</td>\n",
       "      <td>0.04</td>\n",
       "      <td>Iris-setosa</td>\n",
       "    </tr>\n",
       "  </tbody>\n",
       "</table>\n",
       "</div>"
      ],
      "text/plain": [
       "   がく片長さ  がく片幅  花弁長さ   花弁幅           種類\n",
       "0   0.22  0.63  0.08  0.04  Iris-setosa\n",
       "1   0.17  0.42  0.35  0.04  Iris-setosa\n",
       "2   0.11  0.50  0.13  0.04  Iris-setosa\n",
       "3   0.08  0.46  0.26  0.04  Iris-setosa\n",
       "4   0.19  0.67  0.44  0.04  Iris-setosa"
      ]
     },
     "execution_count": 2,
     "metadata": {},
     "output_type": "execute_result"
    }
   ],
   "source": [
    "df = pd.read_csv('./datafile/iris.csv')\n",
    "df.head(5)"
   ]
  },
  {
   "cell_type": "code",
   "execution_count": 3,
   "id": "9a7aa210-c386-4b96-a20f-0f69099614ff",
   "metadata": {},
   "outputs": [
    {
     "data": {
      "text/plain": [
       "(150, 5)"
      ]
     },
     "execution_count": 3,
     "metadata": {},
     "output_type": "execute_result"
    }
   ],
   "source": [
    "df.shape"
   ]
  },
  {
   "cell_type": "code",
   "execution_count": 4,
   "id": "37a52366-8b55-475e-9a05-27ca6bf9f844",
   "metadata": {},
   "outputs": [
    {
     "data": {
      "text/plain": [
       "array(['Iris-setosa', 'Iris-versicolor', 'Iris-virginica'], dtype=object)"
      ]
     },
     "execution_count": 4,
     "metadata": {},
     "output_type": "execute_result"
    }
   ],
   "source": [
    "#種類のデータでどんな値があるか\n",
    "df['種類'].unique()"
   ]
  },
  {
   "cell_type": "code",
   "execution_count": 5,
   "id": "42d59588-8c19-4ff1-bb61-3a25f7dcfbc8",
   "metadata": {},
   "outputs": [
    {
     "data": {
      "text/plain": [
       "'Iris-versicolor'"
      ]
     },
     "execution_count": 5,
     "metadata": {},
     "output_type": "execute_result"
    }
   ],
   "source": [
    "syurui = df['種類'].unique()\n",
    "#２番目の要素は？\n",
    "syurui[1]"
   ]
  },
  {
   "cell_type": "code",
   "execution_count": 6,
   "id": "0d19477d-46c3-4ec5-a89b-1a40e41263b2",
   "metadata": {},
   "outputs": [
    {
     "data": {
      "text/plain": [
       "種類\n",
       "Iris-setosa        50\n",
       "Iris-versicolor    50\n",
       "Iris-virginica     50\n",
       "Name: count, dtype: int64"
      ]
     },
     "execution_count": 6,
     "metadata": {},
     "output_type": "execute_result"
    }
   ],
   "source": [
    "#それぞれのデータの個数\n",
    "df['種類'].value_counts()"
   ]
  },
  {
   "cell_type": "code",
   "execution_count": 7,
   "id": "7cc36db1-737b-4812-bbab-05761415b672",
   "metadata": {},
   "outputs": [
    {
     "data": {
      "text/html": [
       "<div>\n",
       "<style scoped>\n",
       "    .dataframe tbody tr th:only-of-type {\n",
       "        vertical-align: middle;\n",
       "    }\n",
       "\n",
       "    .dataframe tbody tr th {\n",
       "        vertical-align: top;\n",
       "    }\n",
       "\n",
       "    .dataframe thead th {\n",
       "        text-align: right;\n",
       "    }\n",
       "</style>\n",
       "<table border=\"1\" class=\"dataframe\">\n",
       "  <thead>\n",
       "    <tr style=\"text-align: right;\">\n",
       "      <th></th>\n",
       "      <th>がく片長さ</th>\n",
       "      <th>がく片幅</th>\n",
       "      <th>花弁長さ</th>\n",
       "      <th>花弁幅</th>\n",
       "      <th>種類</th>\n",
       "    </tr>\n",
       "  </thead>\n",
       "  <tbody>\n",
       "    <tr>\n",
       "      <th>145</th>\n",
       "      <td>0.67</td>\n",
       "      <td>0.42</td>\n",
       "      <td>0.54</td>\n",
       "      <td>0.92</td>\n",
       "      <td>Iris-virginica</td>\n",
       "    </tr>\n",
       "    <tr>\n",
       "      <th>146</th>\n",
       "      <td>0.56</td>\n",
       "      <td>0.21</td>\n",
       "      <td>0.69</td>\n",
       "      <td>0.46</td>\n",
       "      <td>Iris-virginica</td>\n",
       "    </tr>\n",
       "    <tr>\n",
       "      <th>147</th>\n",
       "      <td>0.61</td>\n",
       "      <td>0.42</td>\n",
       "      <td>NaN</td>\n",
       "      <td>0.79</td>\n",
       "      <td>Iris-virginica</td>\n",
       "    </tr>\n",
       "    <tr>\n",
       "      <th>148</th>\n",
       "      <td>0.53</td>\n",
       "      <td>0.58</td>\n",
       "      <td>0.63</td>\n",
       "      <td>0.92</td>\n",
       "      <td>Iris-virginica</td>\n",
       "    </tr>\n",
       "    <tr>\n",
       "      <th>149</th>\n",
       "      <td>0.44</td>\n",
       "      <td>0.42</td>\n",
       "      <td>0.41</td>\n",
       "      <td>0.71</td>\n",
       "      <td>Iris-virginica</td>\n",
       "    </tr>\n",
       "  </tbody>\n",
       "</table>\n",
       "</div>"
      ],
      "text/plain": [
       "     がく片長さ  がく片幅  花弁長さ   花弁幅              種類\n",
       "145   0.67  0.42  0.54  0.92  Iris-virginica\n",
       "146   0.56  0.21  0.69  0.46  Iris-virginica\n",
       "147   0.61  0.42   NaN  0.79  Iris-virginica\n",
       "148   0.53  0.58  0.63  0.92  Iris-virginica\n",
       "149   0.44  0.42  0.41  0.71  Iris-virginica"
      ]
     },
     "execution_count": 7,
     "metadata": {},
     "output_type": "execute_result"
    }
   ],
   "source": [
    "df.tail(5)"
   ]
  },
  {
   "cell_type": "code",
   "execution_count": 8,
   "id": "428fd8dc-5f00-4c3d-8851-434c5a1a2c5e",
   "metadata": {},
   "outputs": [
    {
     "data": {
      "text/html": [
       "<div>\n",
       "<style scoped>\n",
       "    .dataframe tbody tr th:only-of-type {\n",
       "        vertical-align: middle;\n",
       "    }\n",
       "\n",
       "    .dataframe tbody tr th {\n",
       "        vertical-align: top;\n",
       "    }\n",
       "\n",
       "    .dataframe thead th {\n",
       "        text-align: right;\n",
       "    }\n",
       "</style>\n",
       "<table border=\"1\" class=\"dataframe\">\n",
       "  <thead>\n",
       "    <tr style=\"text-align: right;\">\n",
       "      <th></th>\n",
       "      <th>がく片長さ</th>\n",
       "      <th>がく片幅</th>\n",
       "      <th>花弁長さ</th>\n",
       "      <th>花弁幅</th>\n",
       "      <th>種類</th>\n",
       "    </tr>\n",
       "  </thead>\n",
       "  <tbody>\n",
       "    <tr>\n",
       "      <th>0</th>\n",
       "      <td>False</td>\n",
       "      <td>False</td>\n",
       "      <td>False</td>\n",
       "      <td>False</td>\n",
       "      <td>False</td>\n",
       "    </tr>\n",
       "    <tr>\n",
       "      <th>1</th>\n",
       "      <td>False</td>\n",
       "      <td>False</td>\n",
       "      <td>False</td>\n",
       "      <td>False</td>\n",
       "      <td>False</td>\n",
       "    </tr>\n",
       "    <tr>\n",
       "      <th>2</th>\n",
       "      <td>False</td>\n",
       "      <td>False</td>\n",
       "      <td>False</td>\n",
       "      <td>False</td>\n",
       "      <td>False</td>\n",
       "    </tr>\n",
       "    <tr>\n",
       "      <th>3</th>\n",
       "      <td>False</td>\n",
       "      <td>False</td>\n",
       "      <td>False</td>\n",
       "      <td>False</td>\n",
       "      <td>False</td>\n",
       "    </tr>\n",
       "    <tr>\n",
       "      <th>4</th>\n",
       "      <td>False</td>\n",
       "      <td>False</td>\n",
       "      <td>False</td>\n",
       "      <td>False</td>\n",
       "      <td>False</td>\n",
       "    </tr>\n",
       "    <tr>\n",
       "      <th>...</th>\n",
       "      <td>...</td>\n",
       "      <td>...</td>\n",
       "      <td>...</td>\n",
       "      <td>...</td>\n",
       "      <td>...</td>\n",
       "    </tr>\n",
       "    <tr>\n",
       "      <th>145</th>\n",
       "      <td>False</td>\n",
       "      <td>False</td>\n",
       "      <td>False</td>\n",
       "      <td>False</td>\n",
       "      <td>False</td>\n",
       "    </tr>\n",
       "    <tr>\n",
       "      <th>146</th>\n",
       "      <td>False</td>\n",
       "      <td>False</td>\n",
       "      <td>False</td>\n",
       "      <td>False</td>\n",
       "      <td>False</td>\n",
       "    </tr>\n",
       "    <tr>\n",
       "      <th>147</th>\n",
       "      <td>False</td>\n",
       "      <td>False</td>\n",
       "      <td>True</td>\n",
       "      <td>False</td>\n",
       "      <td>False</td>\n",
       "    </tr>\n",
       "    <tr>\n",
       "      <th>148</th>\n",
       "      <td>False</td>\n",
       "      <td>False</td>\n",
       "      <td>False</td>\n",
       "      <td>False</td>\n",
       "      <td>False</td>\n",
       "    </tr>\n",
       "    <tr>\n",
       "      <th>149</th>\n",
       "      <td>False</td>\n",
       "      <td>False</td>\n",
       "      <td>False</td>\n",
       "      <td>False</td>\n",
       "      <td>False</td>\n",
       "    </tr>\n",
       "  </tbody>\n",
       "</table>\n",
       "<p>150 rows × 5 columns</p>\n",
       "</div>"
      ],
      "text/plain": [
       "     がく片長さ   がく片幅   花弁長さ    花弁幅     種類\n",
       "0    False  False  False  False  False\n",
       "1    False  False  False  False  False\n",
       "2    False  False  False  False  False\n",
       "3    False  False  False  False  False\n",
       "4    False  False  False  False  False\n",
       "..     ...    ...    ...    ...    ...\n",
       "145  False  False  False  False  False\n",
       "146  False  False  False  False  False\n",
       "147  False  False   True  False  False\n",
       "148  False  False  False  False  False\n",
       "149  False  False  False  False  False\n",
       "\n",
       "[150 rows x 5 columns]"
      ]
     },
     "execution_count": 8,
     "metadata": {},
     "output_type": "execute_result"
    }
   ],
   "source": [
    "#NULL値かどうかTrueはNULL値\n",
    "df.isnull()"
   ]
  },
  {
   "cell_type": "code",
   "execution_count": 10,
   "id": "eb0aadfd-55cd-42b2-912a-b9c937e6f4fb",
   "metadata": {},
   "outputs": [
    {
     "data": {
      "text/plain": [
       "がく片長さ     True\n",
       "がく片幅      True\n",
       "花弁長さ      True\n",
       "花弁幅       True\n",
       "種類       False\n",
       "dtype: bool"
      ]
     },
     "execution_count": 10,
     "metadata": {},
     "output_type": "execute_result"
    }
   ],
   "source": [
    "#NULL値がある列を調べる\n",
    "df.isnull().any(axis=0)"
   ]
  },
  {
   "cell_type": "code",
   "execution_count": 11,
   "id": "2319fe4a-d9d6-43ed-ab2b-04927530a9b6",
   "metadata": {},
   "outputs": [
    {
     "data": {
      "text/plain": [
       "がく片長さ                                                62.29\n",
       "がく片幅                                                 65.62\n",
       "花弁長さ                                                 72.04\n",
       "花弁幅                                                  66.22\n",
       "種類       Iris-setosaIris-setosaIris-setosaIris-setosaIr...\n",
       "dtype: object"
      ]
     },
     "execution_count": 11,
     "metadata": {},
     "output_type": "execute_result"
    }
   ],
   "source": [
    "#列ごとの合計値\n",
    "df.sum()"
   ]
  },
  {
   "cell_type": "code",
   "execution_count": 13,
   "id": "393242c3-ea40-4aab-a93b-a1bfccc5c42a",
   "metadata": {},
   "outputs": [
    {
     "data": {
      "text/plain": [
       "がく片長さ    2\n",
       "がく片幅     1\n",
       "花弁長さ     2\n",
       "花弁幅      2\n",
       "種類       0\n",
       "dtype: int64"
      ]
     },
     "execution_count": 13,
     "metadata": {},
     "output_type": "execute_result"
    }
   ],
   "source": [
    "#NULL値のデータを格納\n",
    "tmp = df.isnull()\n",
    "#NULLデータの個数をカウント\n",
    "tmp.sum()"
   ]
  },
  {
   "cell_type": "code",
   "execution_count": 14,
   "id": "5186e8e8-e305-4797-84cf-0f9ae36133c8",
   "metadata": {},
   "outputs": [
    {
     "data": {
      "text/html": [
       "<div>\n",
       "<style scoped>\n",
       "    .dataframe tbody tr th:only-of-type {\n",
       "        vertical-align: middle;\n",
       "    }\n",
       "\n",
       "    .dataframe tbody tr th {\n",
       "        vertical-align: top;\n",
       "    }\n",
       "\n",
       "    .dataframe thead th {\n",
       "        text-align: right;\n",
       "    }\n",
       "</style>\n",
       "<table border=\"1\" class=\"dataframe\">\n",
       "  <thead>\n",
       "    <tr style=\"text-align: right;\">\n",
       "      <th></th>\n",
       "      <th>がく片長さ</th>\n",
       "      <th>がく片幅</th>\n",
       "      <th>花弁長さ</th>\n",
       "      <th>花弁幅</th>\n",
       "      <th>種類</th>\n",
       "    </tr>\n",
       "  </thead>\n",
       "  <tbody>\n",
       "    <tr>\n",
       "      <th>144</th>\n",
       "      <td>0.67</td>\n",
       "      <td>0.54</td>\n",
       "      <td>0.70</td>\n",
       "      <td>0.72</td>\n",
       "      <td>Iris-virginica</td>\n",
       "    </tr>\n",
       "    <tr>\n",
       "      <th>145</th>\n",
       "      <td>0.67</td>\n",
       "      <td>0.42</td>\n",
       "      <td>0.54</td>\n",
       "      <td>0.92</td>\n",
       "      <td>Iris-virginica</td>\n",
       "    </tr>\n",
       "    <tr>\n",
       "      <th>146</th>\n",
       "      <td>0.56</td>\n",
       "      <td>0.21</td>\n",
       "      <td>0.69</td>\n",
       "      <td>0.46</td>\n",
       "      <td>Iris-virginica</td>\n",
       "    </tr>\n",
       "    <tr>\n",
       "      <th>148</th>\n",
       "      <td>0.53</td>\n",
       "      <td>0.58</td>\n",
       "      <td>0.63</td>\n",
       "      <td>0.92</td>\n",
       "      <td>Iris-virginica</td>\n",
       "    </tr>\n",
       "    <tr>\n",
       "      <th>149</th>\n",
       "      <td>0.44</td>\n",
       "      <td>0.42</td>\n",
       "      <td>0.41</td>\n",
       "      <td>0.71</td>\n",
       "      <td>Iris-virginica</td>\n",
       "    </tr>\n",
       "  </tbody>\n",
       "</table>\n",
       "</div>"
      ],
      "text/plain": [
       "     がく片長さ  がく片幅  花弁長さ   花弁幅              種類\n",
       "144   0.67  0.54  0.70  0.72  Iris-virginica\n",
       "145   0.67  0.42  0.54  0.92  Iris-virginica\n",
       "146   0.56  0.21  0.69  0.46  Iris-virginica\n",
       "148   0.53  0.58  0.63  0.92  Iris-virginica\n",
       "149   0.44  0.42  0.41  0.71  Iris-virginica"
      ]
     },
     "execution_count": 14,
     "metadata": {},
     "output_type": "execute_result"
    }
   ],
   "source": [
    "#NULL値をすべての行削除\n",
    "df2 = df.dropna(how='any', axis=0)\n",
    "\n",
    "df2.tail(5)"
   ]
  },
  {
   "cell_type": "code",
   "execution_count": 15,
   "id": "7d7b7859-f7b3-4a66-b4bd-bbb5419a2446",
   "metadata": {},
   "outputs": [
    {
     "data": {
      "text/plain": [
       "がく片長さ     True\n",
       "がく片幅      True\n",
       "花弁長さ      True\n",
       "花弁幅       True\n",
       "種類       False\n",
       "dtype: bool"
      ]
     },
     "execution_count": 15,
     "metadata": {},
     "output_type": "execute_result"
    }
   ],
   "source": [
    "df.isnull().any(axis=0)"
   ]
  },
  {
   "cell_type": "code",
   "execution_count": 16,
   "id": "0c64dfe4-c1fb-4ec0-8e41-358ca4fce603",
   "metadata": {},
   "outputs": [
    {
     "data": {
      "text/plain": [
       "がく片長さ    False\n",
       "がく片幅     False\n",
       "花弁長さ     False\n",
       "花弁幅      False\n",
       "種類       False\n",
       "dtype: bool"
      ]
     },
     "execution_count": 16,
     "metadata": {},
     "output_type": "execute_result"
    }
   ],
   "source": [
    "#NULL値はなくなった\n",
    "df2.isnull().any(axis=0)"
   ]
  },
  {
   "cell_type": "code",
   "execution_count": 17,
   "id": "0741e226-1ee1-4aae-bb1e-6f9a5abd41cb",
   "metadata": {},
   "outputs": [
    {
     "data": {
      "text/html": [
       "<div>\n",
       "<style scoped>\n",
       "    .dataframe tbody tr th:only-of-type {\n",
       "        vertical-align: middle;\n",
       "    }\n",
       "\n",
       "    .dataframe tbody tr th {\n",
       "        vertical-align: top;\n",
       "    }\n",
       "\n",
       "    .dataframe thead th {\n",
       "        text-align: right;\n",
       "    }\n",
       "</style>\n",
       "<table border=\"1\" class=\"dataframe\">\n",
       "  <thead>\n",
       "    <tr style=\"text-align: right;\">\n",
       "      <th></th>\n",
       "      <th>がく片長さ</th>\n",
       "      <th>がく片幅</th>\n",
       "      <th>花弁長さ</th>\n",
       "      <th>花弁幅</th>\n",
       "      <th>種類</th>\n",
       "    </tr>\n",
       "  </thead>\n",
       "  <tbody>\n",
       "    <tr>\n",
       "      <th>145</th>\n",
       "      <td>0.67</td>\n",
       "      <td>0.42</td>\n",
       "      <td>0.54</td>\n",
       "      <td>0.92</td>\n",
       "      <td>Iris-virginica</td>\n",
       "    </tr>\n",
       "    <tr>\n",
       "      <th>146</th>\n",
       "      <td>0.56</td>\n",
       "      <td>0.21</td>\n",
       "      <td>0.69</td>\n",
       "      <td>0.46</td>\n",
       "      <td>Iris-virginica</td>\n",
       "    </tr>\n",
       "    <tr>\n",
       "      <th>147</th>\n",
       "      <td>0.61</td>\n",
       "      <td>0.42</td>\n",
       "      <td>0.00</td>\n",
       "      <td>0.79</td>\n",
       "      <td>Iris-virginica</td>\n",
       "    </tr>\n",
       "    <tr>\n",
       "      <th>148</th>\n",
       "      <td>0.53</td>\n",
       "      <td>0.58</td>\n",
       "      <td>0.63</td>\n",
       "      <td>0.92</td>\n",
       "      <td>Iris-virginica</td>\n",
       "    </tr>\n",
       "    <tr>\n",
       "      <th>149</th>\n",
       "      <td>0.44</td>\n",
       "      <td>0.42</td>\n",
       "      <td>0.41</td>\n",
       "      <td>0.71</td>\n",
       "      <td>Iris-virginica</td>\n",
       "    </tr>\n",
       "  </tbody>\n",
       "</table>\n",
       "</div>"
      ],
      "text/plain": [
       "     がく片長さ  がく片幅  花弁長さ   花弁幅              種類\n",
       "145   0.67  0.42  0.54  0.92  Iris-virginica\n",
       "146   0.56  0.21  0.69  0.46  Iris-virginica\n",
       "147   0.61  0.42  0.00  0.79  Iris-virginica\n",
       "148   0.53  0.58  0.63  0.92  Iris-virginica\n",
       "149   0.44  0.42  0.41  0.71  Iris-virginica"
      ]
     },
     "execution_count": 17,
     "metadata": {},
     "output_type": "execute_result"
    }
   ],
   "source": [
    "#NULL値を０に置き換える\n",
    "df['花弁長さ'] = df['花弁長さ'].fillna(0)\n",
    "df.tail(5)"
   ]
  },
  {
   "cell_type": "code",
   "execution_count": 26,
   "id": "e97047d4-12b8-42c1-a436-fa2f417ad9a4",
   "metadata": {},
   "outputs": [
    {
     "data": {
      "text/plain": [
       "Index(['がく片長さ', 'がく片幅', '花弁長さ', '花弁幅', '種類'], dtype='object')"
      ]
     },
     "execution_count": 26,
     "metadata": {},
     "output_type": "execute_result"
    }
   ],
   "source": [
    "df.columns"
   ]
  },
  {
   "cell_type": "code",
   "execution_count": 27,
   "id": "cbb2d5f2-d230-4fef-a444-6624d8d76eaa",
   "metadata": {},
   "outputs": [
    {
     "data": {
      "text/plain": [
       "がく片長さ    0.420878\n",
       "がく片幅     0.440403\n",
       "花弁長さ     0.480267\n",
       "花弁幅      0.447432\n",
       "dtype: float64"
      ]
     },
     "execution_count": 27,
     "metadata": {},
     "output_type": "execute_result"
    }
   ],
   "source": [
    "#それぞれの列の平均\n",
    "df[['がく片長さ', 'がく片幅', '花弁長さ', '花弁幅']].mean()"
   ]
  },
  {
   "cell_type": "code",
   "execution_count": 22,
   "id": "9bb87393-9746-438f-b3a5-478b6eac150c",
   "metadata": {},
   "outputs": [
    {
     "data": {
      "text/plain": [
       "0.42087837837837844"
      ]
     },
     "execution_count": 22,
     "metadata": {},
     "output_type": "execute_result"
    }
   ],
   "source": [
    "#がく片長さの平均\n",
    "df['がく片長さ'].mean()"
   ]
  },
  {
   "cell_type": "code",
   "execution_count": 28,
   "id": "255716a3-77f4-4429-9395-e7df09cbe36d",
   "metadata": {},
   "outputs": [
    {
     "data": {
      "text/plain": [
       "がく片長さ    0.228910\n",
       "がく片幅     0.181137\n",
       "花弁長さ     0.236909\n",
       "花弁幅      0.309960\n",
       "dtype: float64"
      ]
     },
     "execution_count": 28,
     "metadata": {},
     "output_type": "execute_result"
    }
   ],
   "source": [
    "#それぞれの列の標準偏差\n",
    "df[['がく片長さ', 'がく片幅', '花弁長さ', '花弁幅']].std()"
   ]
  },
  {
   "cell_type": "code",
   "execution_count": 35,
   "id": "cf1fb4c0-ea98-45a9-b336-f927e134898e",
   "metadata": {},
   "outputs": [
    {
     "data": {
      "text/plain": [
       "がく片長さ    False\n",
       "がく片幅     False\n",
       "花弁長さ     False\n",
       "花弁幅      False\n",
       "種類       False\n",
       "dtype: bool"
      ]
     },
     "execution_count": 35,
     "metadata": {},
     "output_type": "execute_result"
    }
   ],
   "source": [
    "#新しくCSV読み込みなおす\n",
    "df = pd.read_csv('./datafile/iris.csv')\n",
    "#それぞれの列の平均値を配列として格納\n",
    "colmean = df[['がく片長さ', 'がく片幅', '花弁長さ', '花弁幅']].mean()\n",
    "#それぞれの列のNULL値を平均値で補完\n",
    "df2 = df.fillna(colmean)\n",
    "#NULL値が残ってないか確認\n",
    "df2.isnull().any(axis=0)"
   ]
  },
  {
   "cell_type": "code",
   "execution_count": 36,
   "id": "316bd7d8-6b8d-4ce9-893f-dd57ecd6703f",
   "metadata": {},
   "outputs": [],
   "source": [
    "xcol = ['がく片長さ', 'がく片幅', '花弁長さ', '花弁幅']\n",
    "#説明変数\n",
    "x = df2[xcol]\n",
    "#教師データ\n",
    "t = df2['種類']"
   ]
  },
  {
   "cell_type": "code",
   "execution_count": 37,
   "id": "55bbf51a-fb5b-4470-94d4-45217fc91e51",
   "metadata": {},
   "outputs": [],
   "source": [
    "from sklearn import tree"
   ]
  },
  {
   "cell_type": "code",
   "execution_count": 38,
   "id": "2e8776c6-041f-4309-88bf-33b0bbb21b75",
   "metadata": {},
   "outputs": [],
   "source": [
    "#モデルの選択、枝の深さを２段で\n",
    "model = tree.DecisionTreeClassifier(max_depth=2, random_state=0)"
   ]
  },
  {
   "cell_type": "code",
   "execution_count": 39,
   "id": "064cb21e-5982-4ac9-8b68-eb5705c6dc92",
   "metadata": {},
   "outputs": [
    {
     "data": {
      "text/plain": [
       "0.94"
      ]
     },
     "execution_count": 39,
     "metadata": {},
     "output_type": "execute_result"
    }
   ],
   "source": [
    "#学習\n",
    "model.fit(x, t)\n",
    "#モデル予測正答率\n",
    "model.score(x, t)"
   ]
  },
  {
   "cell_type": "code",
   "execution_count": 40,
   "id": "d4b9ec27-f45e-4e20-8ea0-dcf052cc85f9",
   "metadata": {},
   "outputs": [],
   "source": [
    "#訓練データとテストデータを分割してくれる関数\n",
    "from sklearn.model_selection import train_test_split"
   ]
  },
  {
   "cell_type": "code",
   "execution_count": 41,
   "id": "27aca1d9-76aa-4ada-96f9-5cae72edc9cf",
   "metadata": {},
   "outputs": [],
   "source": [
    "#テストデータサイズ３０％で分割\n",
    "x_train, x_test, y_train, y_test = train_test_split(x, t, test_size=0.3, random_state=0)"
   ]
  },
  {
   "cell_type": "code",
   "execution_count": 42,
   "id": "4e2c23b2-ad85-4cfb-a8e7-d3fb65de7939",
   "metadata": {},
   "outputs": [
    {
     "name": "stdout",
     "output_type": "stream",
     "text": [
      "(105, 4)\n",
      "(45, 4)\n"
     ]
    }
   ],
   "source": [
    "#７：３分割できているか確認\n",
    "print(x_train.shape)\n",
    "print(x_test.shape)"
   ]
  },
  {
   "cell_type": "code",
   "execution_count": 43,
   "id": "6ecc5c4f-079e-41ff-ac5f-a7404cfcbae3",
   "metadata": {},
   "outputs": [
    {
     "data": {
      "text/plain": [
       "0.9555555555555556"
      ]
     },
     "execution_count": 43,
     "metadata": {},
     "output_type": "execute_result"
    }
   ],
   "source": [
    "#訓練データで学習\n",
    "model.fit(x_train, y_train)\n",
    "#テストデータで予測結果の正答率\n",
    "model.score(x_test, y_test)"
   ]
  },
  {
   "cell_type": "code",
   "execution_count": 44,
   "id": "49d2a373-5bf6-494c-bc92-c5b98477bc76",
   "metadata": {},
   "outputs": [],
   "source": [
    "import pickle"
   ]
  },
  {
   "cell_type": "code",
   "execution_count": 45,
   "id": "877be4e7-b5e9-4e56-aebb-dee912cf358c",
   "metadata": {},
   "outputs": [],
   "source": [
    "#モデルファイルを保存する\n",
    "with open('./modelfile/irismodel.pkl', 'wb') as f:\n",
    "    pickle.dump(model, f)"
   ]
  },
  {
   "cell_type": "code",
   "execution_count": 46,
   "id": "93233755-7080-4183-bd1e-d7b87e7d3ba3",
   "metadata": {},
   "outputs": [
    {
     "data": {
      "text/plain": [
       "array([ 0.275, -2.   ,  0.69 , -2.   , -2.   ])"
      ]
     },
     "execution_count": 46,
     "metadata": {},
     "output_type": "execute_result"
    }
   ],
   "source": [
    "#\n",
    "model.tree_.threshold"
   ]
  },
  {
   "cell_type": "code",
   "execution_count": 47,
   "id": "e36fa7ca-bd8f-47a9-a6df-a7fce92b1bc2",
   "metadata": {},
   "outputs": [
    {
     "name": "stdout",
     "output_type": "stream",
     "text": [
      "[[1. 0. 0.]]\n",
      "[[0.         0.83783784 0.16216216]]\n",
      "[[0.         0.02941176 0.97058824]]\n"
     ]
    }
   ],
   "source": [
    "#\n",
    "print(model.tree_.value[1])\n",
    "print(model.tree_.value[3])\n",
    "print(model.tree_.value[4])"
   ]
  },
  {
   "cell_type": "code",
   "execution_count": 48,
   "id": "9f450a47-7a7d-434f-99b1-a6dbf0872cfa",
   "metadata": {},
   "outputs": [
    {
     "data": {
      "text/plain": [
       "array(['Iris-setosa', 'Iris-versicolor', 'Iris-virginica'], dtype=object)"
      ]
     },
     "execution_count": 48,
     "metadata": {},
     "output_type": "execute_result"
    }
   ],
   "source": [
    "#\n",
    "model.classes_"
   ]
  },
  {
   "cell_type": "code",
   "execution_count": 49,
   "id": "fe665e28-60ad-417c-987f-fdc9acc1ac39",
   "metadata": {},
   "outputs": [],
   "source": [
    "#\n",
    "from sklearn.tree import plot_tree"
   ]
  },
  {
   "cell_type": "code",
   "execution_count": 55,
   "id": "b4b9ede9-e84e-46f6-9014-6613410055ed",
   "metadata": {},
   "outputs": [],
   "source": [
    "#グラフ日本語表示用のパッケージ\n",
    "import matplotlib.pyplot as plt\n",
    "import japanize_matplotlib"
   ]
  },
  {
   "cell_type": "code",
   "execution_count": 56,
   "id": "a66da767-8675-47de-a2cd-f23a2bac99b8",
   "metadata": {},
   "outputs": [
    {
     "data": {
      "text/plain": [
       "[Text(0.4, 0.8333333333333334, '花弁幅 <= 0.275\\ngini = 0.664\\nsamples = 105\\nvalue = [34, 32, 39]'),\n",
       " Text(0.2, 0.5, 'gini = 0.0\\nsamples = 34\\nvalue = [34, 0, 0]'),\n",
       " Text(0.6, 0.5, '花弁幅 <= 0.69\\ngini = 0.495\\nsamples = 71\\nvalue = [0, 32, 39]'),\n",
       " Text(0.4, 0.16666666666666666, 'gini = 0.272\\nsamples = 37\\nvalue = [0, 31, 6]'),\n",
       " Text(0.8, 0.16666666666666666, 'gini = 0.057\\nsamples = 34\\nvalue = [0, 1, 33]')]"
      ]
     },
     "execution_count": 56,
     "metadata": {},
     "output_type": "execute_result"
    },
    {
     "data": {
      "image/png": "[encoded data removed]",
      "text/plain": [
       "<Figure size 640x480 with 1 Axes>"
      ]
     },
     "metadata": {},
     "output_type": "display_data"
    }
   ],
   "source": [
    "#\n",
    "plot_tree(model, feature_names=x_train.columns, filled=True)"
   ]
  },
  {
   "cell_type": "code",
   "execution_count": null,
   "id": "2a6813c9-305e-4d9f-b9ce-ca7382a1dccb",
   "metadata": {},
   "outputs": [],
   "source": []
  }
 ],
 "metadata": {
  "kernelspec": {
   "display_name": "Python 3 (ipykernel)",
   "language": "python",
   "name": "python3"
  },
  "language_info": {
   "codemirror_mode": {
    "name": "ipython",
    "version": 3
   },
   "file_extension": ".py",
   "mimetype": "text/x-python",
   "name": "python",
   "nbconvert_exporter": "python",
   "pygments_lexer": "ipython3",
   "version": "3.11.7"
  }
 },
 "nbformat": 4,
 "nbformat_minor": 5
}
